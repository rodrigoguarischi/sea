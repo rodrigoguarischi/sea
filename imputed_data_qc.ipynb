{
 "cells": [
  {
   "cell_type": "markdown",
   "metadata": {},
   "source": [
    "### This notebook will be used to QC SEA imputed data from Michigan imputation server (MIS) and TopMed imputation server"
   ]
  },
  {
   "cell_type": "markdown",
   "metadata": {},
   "source": [
    "Import required libraries"
   ]
  },
  {
   "cell_type": "code",
   "execution_count": 1,
   "metadata": {},
   "outputs": [],
   "source": [
    "import pandas as pd\n",
    "import matplotlib.pyplot as plt\n",
    "import numpy as np"
   ]
  },
  {
   "cell_type": "markdown",
   "metadata": {},
   "source": [
    "Read <code>info.gz</code> files with metrics from imputation"
   ]
  },
  {
   "cell_type": "code",
   "execution_count": 2,
   "metadata": {},
   "outputs": [
    {
     "data": {
      "text/html": [
       "<div>\n",
       "<style scoped>\n",
       "    .dataframe tbody tr th:only-of-type {\n",
       "        vertical-align: middle;\n",
       "    }\n",
       "\n",
       "    .dataframe tbody tr th {\n",
       "        vertical-align: top;\n",
       "    }\n",
       "\n",
       "    .dataframe thead th {\n",
       "        text-align: right;\n",
       "    }\n",
       "</style>\n",
       "<table border=\"1\" class=\"dataframe\">\n",
       "  <thead>\n",
       "    <tr style=\"text-align: right;\">\n",
       "      <th></th>\n",
       "      <th>SNP</th>\n",
       "      <th>REF(0)</th>\n",
       "      <th>ALT(1)</th>\n",
       "      <th>ALT_Frq</th>\n",
       "      <th>MAF</th>\n",
       "      <th>AvgCall</th>\n",
       "      <th>Rsq</th>\n",
       "      <th>Genotyped</th>\n",
       "      <th>LooRsq</th>\n",
       "      <th>EmpR</th>\n",
       "      <th>EmpRsq</th>\n",
       "      <th>Dose0</th>\n",
       "      <th>Dose1</th>\n",
       "    </tr>\n",
       "  </thead>\n",
       "  <tbody>\n",
       "    <tr>\n",
       "      <th>0</th>\n",
       "      <td>21:9411245:C:A</td>\n",
       "      <td>C</td>\n",
       "      <td>A</td>\n",
       "      <td>0.00066</td>\n",
       "      <td>0.00066</td>\n",
       "      <td>0.99934</td>\n",
       "      <td>0.00195</td>\n",
       "      <td>Imputed</td>\n",
       "      <td>-</td>\n",
       "      <td>-</td>\n",
       "      <td>-</td>\n",
       "      <td>-</td>\n",
       "      <td>-</td>\n",
       "    </tr>\n",
       "    <tr>\n",
       "      <th>1</th>\n",
       "      <td>21:9411298:G:A</td>\n",
       "      <td>G</td>\n",
       "      <td>A</td>\n",
       "      <td>0.00020</td>\n",
       "      <td>0.00020</td>\n",
       "      <td>0.99980</td>\n",
       "      <td>0.00006</td>\n",
       "      <td>Imputed</td>\n",
       "      <td>-</td>\n",
       "      <td>-</td>\n",
       "      <td>-</td>\n",
       "      <td>-</td>\n",
       "      <td>-</td>\n",
       "    </tr>\n",
       "    <tr>\n",
       "      <th>2</th>\n",
       "      <td>21:9411313:G:A</td>\n",
       "      <td>G</td>\n",
       "      <td>A</td>\n",
       "      <td>0.00004</td>\n",
       "      <td>0.00004</td>\n",
       "      <td>0.99996</td>\n",
       "      <td>0.00921</td>\n",
       "      <td>Imputed</td>\n",
       "      <td>-</td>\n",
       "      <td>-</td>\n",
       "      <td>-</td>\n",
       "      <td>-</td>\n",
       "      <td>-</td>\n",
       "    </tr>\n",
       "    <tr>\n",
       "      <th>3</th>\n",
       "      <td>21:9411347:G:C</td>\n",
       "      <td>G</td>\n",
       "      <td>C</td>\n",
       "      <td>0.00016</td>\n",
       "      <td>0.00016</td>\n",
       "      <td>0.99984</td>\n",
       "      <td>0.09798</td>\n",
       "      <td>Imputed</td>\n",
       "      <td>-</td>\n",
       "      <td>-</td>\n",
       "      <td>-</td>\n",
       "      <td>-</td>\n",
       "      <td>-</td>\n",
       "    </tr>\n",
       "    <tr>\n",
       "      <th>4</th>\n",
       "      <td>21:9411354:A:G</td>\n",
       "      <td>A</td>\n",
       "      <td>G</td>\n",
       "      <td>0.00040</td>\n",
       "      <td>0.00040</td>\n",
       "      <td>0.99960</td>\n",
       "      <td>0.00589</td>\n",
       "      <td>Imputed</td>\n",
       "      <td>-</td>\n",
       "      <td>-</td>\n",
       "      <td>-</td>\n",
       "      <td>-</td>\n",
       "      <td>-</td>\n",
       "    </tr>\n",
       "  </tbody>\n",
       "</table>\n",
       "</div>"
      ],
      "text/plain": [
       "              SNP REF(0) ALT(1)  ALT_Frq      MAF  AvgCall      Rsq Genotyped  \\\n",
       "0  21:9411245:C:A      C      A  0.00066  0.00066  0.99934  0.00195   Imputed   \n",
       "1  21:9411298:G:A      G      A  0.00020  0.00020  0.99980  0.00006   Imputed   \n",
       "2  21:9411313:G:A      G      A  0.00004  0.00004  0.99996  0.00921   Imputed   \n",
       "3  21:9411347:G:C      G      C  0.00016  0.00016  0.99984  0.09798   Imputed   \n",
       "4  21:9411354:A:G      A      G  0.00040  0.00040  0.99960  0.00589   Imputed   \n",
       "\n",
       "  LooRsq EmpR EmpRsq Dose0 Dose1  \n",
       "0      -    -      -     -     -  \n",
       "1      -    -      -     -     -  \n",
       "2      -    -      -     -     -  \n",
       "3      -    -      -     -     -  \n",
       "4      -    -      -     -     -  "
      ]
     },
     "execution_count": 2,
     "metadata": {},
     "output_type": "execute_result"
    }
   ],
   "source": [
    "# Read TOPMed data\n",
    "# chr21 = pd.read_table(\"/labs/tassimes/rodrigoguarischi/projects/sea/imputed_genotypes/topmed/tmp_extraction/chr21.info.gz\")\n",
    "\n",
    "# Read MIS data\n",
    "chr21 = pd.read_table(\"/labs/tassimes/rodrigoguarischi/projects/sea/imputed_genotypes/michigan_hrc/from_hg38_vcfs/tmp_extraction/chr21.info.gz\")\n",
    "\n",
    "# Print the first 5 lines\n",
    "chr21[0:5]"
   ]
  },
  {
   "cell_type": "code",
   "execution_count": 3,
   "metadata": {},
   "outputs": [
    {
     "data": {
      "text/html": [
       "<div>\n",
       "<style scoped>\n",
       "    .dataframe tbody tr th:only-of-type {\n",
       "        vertical-align: middle;\n",
       "    }\n",
       "\n",
       "    .dataframe tbody tr th {\n",
       "        vertical-align: top;\n",
       "    }\n",
       "\n",
       "    .dataframe thead th {\n",
       "        text-align: right;\n",
       "    }\n",
       "</style>\n",
       "<table border=\"1\" class=\"dataframe\">\n",
       "  <thead>\n",
       "    <tr style=\"text-align: right;\">\n",
       "      <th></th>\n",
       "      <th>SNP</th>\n",
       "      <th>REF(0)</th>\n",
       "      <th>ALT(1)</th>\n",
       "      <th>ALT_Frq</th>\n",
       "      <th>MAF</th>\n",
       "      <th>AvgCall</th>\n",
       "      <th>Rsq</th>\n",
       "      <th>Genotyped</th>\n",
       "      <th>LooRsq</th>\n",
       "      <th>EmpR</th>\n",
       "      <th>EmpRsq</th>\n",
       "      <th>Dose0</th>\n",
       "      <th>Dose1</th>\n",
       "      <th>chr</th>\n",
       "      <th>pos</th>\n",
       "    </tr>\n",
       "  </thead>\n",
       "  <tbody>\n",
       "    <tr>\n",
       "      <th>8437</th>\n",
       "      <td>21:14756926:T:C</td>\n",
       "      <td>T</td>\n",
       "      <td>C</td>\n",
       "      <td>0.00524</td>\n",
       "      <td>0.00524</td>\n",
       "      <td>0.99991</td>\n",
       "      <td>0.98577</td>\n",
       "      <td>Genotyped</td>\n",
       "      <td>0.761</td>\n",
       "      <td>0.916</td>\n",
       "      <td>0.83914</td>\n",
       "      <td>0.73832</td>\n",
       "      <td>0.00058</td>\n",
       "      <td>21</td>\n",
       "      <td>14756926</td>\n",
       "    </tr>\n",
       "    <tr>\n",
       "      <th>8490</th>\n",
       "      <td>21:14760841:G:A</td>\n",
       "      <td>G</td>\n",
       "      <td>A</td>\n",
       "      <td>0.00563</td>\n",
       "      <td>0.00563</td>\n",
       "      <td>0.99997</td>\n",
       "      <td>0.99469</td>\n",
       "      <td>Genotyped</td>\n",
       "      <td>0.679</td>\n",
       "      <td>0.957</td>\n",
       "      <td>0.91592</td>\n",
       "      <td>0.89120</td>\n",
       "      <td>0.00215</td>\n",
       "      <td>21</td>\n",
       "      <td>14760841</td>\n",
       "    </tr>\n",
       "    <tr>\n",
       "      <th>10172</th>\n",
       "      <td>21:14889913:C:T</td>\n",
       "      <td>C</td>\n",
       "      <td>T</td>\n",
       "      <td>0.18055</td>\n",
       "      <td>0.18055</td>\n",
       "      <td>0.99790</td>\n",
       "      <td>0.98586</td>\n",
       "      <td>Genotyped</td>\n",
       "      <td>0.021</td>\n",
       "      <td>0.224</td>\n",
       "      <td>0.05029</td>\n",
       "      <td>0.11238</td>\n",
       "      <td>0.08773</td>\n",
       "      <td>21</td>\n",
       "      <td>14889913</td>\n",
       "    </tr>\n",
       "    <tr>\n",
       "      <th>11500</th>\n",
       "      <td>21:15169985:C:A</td>\n",
       "      <td>C</td>\n",
       "      <td>A</td>\n",
       "      <td>0.19046</td>\n",
       "      <td>0.19046</td>\n",
       "      <td>0.99792</td>\n",
       "      <td>0.98670</td>\n",
       "      <td>Genotyped</td>\n",
       "      <td>0.038</td>\n",
       "      <td>0.138</td>\n",
       "      <td>0.01915</td>\n",
       "      <td>0.01375</td>\n",
       "      <td>0.00743</td>\n",
       "      <td>21</td>\n",
       "      <td>15169985</td>\n",
       "    </tr>\n",
       "    <tr>\n",
       "      <th>14563</th>\n",
       "      <td>21:15322836:T:C</td>\n",
       "      <td>T</td>\n",
       "      <td>C</td>\n",
       "      <td>0.13472</td>\n",
       "      <td>0.13472</td>\n",
       "      <td>0.99759</td>\n",
       "      <td>0.97942</td>\n",
       "      <td>Genotyped</td>\n",
       "      <td>0.023</td>\n",
       "      <td>0.284</td>\n",
       "      <td>0.08075</td>\n",
       "      <td>0.20500</td>\n",
       "      <td>0.15855</td>\n",
       "      <td>21</td>\n",
       "      <td>15322836</td>\n",
       "    </tr>\n",
       "  </tbody>\n",
       "</table>\n",
       "</div>"
      ],
      "text/plain": [
       "                   SNP REF(0) ALT(1)  ALT_Frq      MAF  AvgCall      Rsq  \\\n",
       "8437   21:14756926:T:C      T      C  0.00524  0.00524  0.99991  0.98577   \n",
       "8490   21:14760841:G:A      G      A  0.00563  0.00563  0.99997  0.99469   \n",
       "10172  21:14889913:C:T      C      T  0.18055  0.18055  0.99790  0.98586   \n",
       "11500  21:15169985:C:A      C      A  0.19046  0.19046  0.99792  0.98670   \n",
       "14563  21:15322836:T:C      T      C  0.13472  0.13472  0.99759  0.97942   \n",
       "\n",
       "       Genotyped LooRsq   EmpR   EmpRsq    Dose0    Dose1 chr       pos  \n",
       "8437   Genotyped  0.761  0.916  0.83914  0.73832  0.00058  21  14756926  \n",
       "8490   Genotyped  0.679  0.957  0.91592  0.89120  0.00215  21  14760841  \n",
       "10172  Genotyped  0.021  0.224  0.05029  0.11238  0.08773  21  14889913  \n",
       "11500  Genotyped  0.038  0.138  0.01915  0.01375  0.00743  21  15169985  \n",
       "14563  Genotyped  0.023  0.284  0.08075  0.20500  0.15855  21  15322836  "
      ]
     },
     "execution_count": 3,
     "metadata": {},
     "output_type": "execute_result"
    }
   ],
   "source": [
    "chr21_genotyped = chr21[ chr21.Genotyped == \"Genotyped\" ]\n",
    "\n",
    "chr21_genotyped_coords = chr21_genotyped.SNP.str.split(\":\", n=3, expand = True)\n",
    "chr21_genotyped_coords.columns = [\"chr\", \"pos\", \"ref\", \"alt\"]\n",
    "\n",
    "chr21_genotyped = chr21_genotyped.join( chr21_genotyped_coords[ [\"chr\", \"pos\"] ] )\n",
    "\n",
    "# Print the first 5 lines\n",
    "chr21_genotyped[0:5]\n"
   ]
  },
  {
   "cell_type": "markdown",
   "metadata": {},
   "source": [
    "Create a plot of **Rsq** along with the chromosome genomic positions"
   ]
  },
  {
   "cell_type": "code",
   "execution_count": 4,
   "metadata": {},
   "outputs": [
    {
     "data": {
      "text/plain": [
       "Text(0, 0.5, 'Empirical (Leave-One-Out) R²')"
      ]
     },
     "execution_count": 4,
     "metadata": {},
     "output_type": "execute_result"
    },
    {
     "data": {
      "image/png": "[encoded data removed]",
      "text/plain": [
       "<Figure size 432x288 with 1 Axes>"
      ]
     },
     "metadata": {
      "needs_background": "light"
     },
     "output_type": "display_data"
    }
   ],
   "source": [
    "import matplotlib.pyplot as plt\n",
    "import statistics\n",
    "\n",
    "# Create scatter plot of genomic positions by estimated r2 (from minimac4 leave one out column)\n",
    "plt.scatter( \n",
    "    x = chr21_genotyped.pos.astype(int), \n",
    "    y = chr21_genotyped.LooRsq.astype(float), \n",
    "    marker = 'o',\n",
    "    color='gray',\n",
    "    s=3,\n",
    "    alpha=0.75\n",
    "    )\n",
    "\n",
    "# Add horizontal line with mean LooRsq\n",
    "mean_rsq = statistics.mean( chr21_genotyped.LooRsq.astype(float) )\n",
    "plt.axhline(\n",
    "    y=mean_rsq, \n",
    "    color='red',\n",
    "    linestyle='--'\n",
    "    )\n",
    "plt.text( \n",
    "    x = max(chr21_genotyped.pos.astype(int))*0.825,\n",
    "    y = mean_rsq+0.025,\n",
    "    s = \"Mean R\\u00b2 = {:.2f}\".format(mean_rsq),\n",
    "    color='red'\n",
    "    )\n",
    "\n",
    "# Adjust labels and axis\n",
    "plt.title( \"chr21 (N = \" + str(len(chr21_genotyped)) + \")\" )\n",
    "plt.xlabel(\"chr21 genomic position\")\n",
    "plt.ylabel(\"Empirical (Leave-One-Out) R\\u00b2\")"
   ]
  },
  {
   "cell_type": "code",
   "execution_count": 5,
   "metadata": {},
   "outputs": [
    {
     "data": {
      "text/plain": [
       "Text(0, 0.5, 'Frequency')"
      ]
     },
     "execution_count": 5,
     "metadata": {},
     "output_type": "execute_result"
    },
    {
     "data": {
      "image/png": "[encoded data removed]",
      "text/plain": [
       "<Figure size 432x288 with 1 Axes>"
      ]
     },
     "metadata": {
      "needs_background": "light"
     },
     "output_type": "display_data"
    }
   ],
   "source": [
    "# Make a histogram of LooRsq\n",
    "plt.hist(\n",
    "  x = chr21_genotyped.LooRsq.astype(float),\n",
    "  bins = 10,\n",
    "  color='black',\n",
    "  alpha = 0.6\n",
    "  )\n",
    "\n",
    "# Adjust labels and axis\n",
    "plt.title( \"chr21 (N = \" + str(len(chr21_genotyped)) + \")\" )\n",
    "plt.xlabel(\"Empirical (Leave-One-Out) R\\u00b2\")\n",
    "plt.ylabel(\"Frequency\")"
   ]
  },
  {
   "cell_type": "code",
   "execution_count": 6,
   "metadata": {},
   "outputs": [
    {
     "name": "stdout",
     "output_type": "stream",
     "text": [
      "Passing = 531,276, filtered= 0 \t (RSq threshold = 0)\n",
      "Passing = 485,041, filtered= 46,235 \t (RSq threshold = 0.001)\n",
      "Passing = 286,424, filtered= 244,852 \t (RSq threshold = 0.1)\n",
      "Passing = 241,552, filtered= 289,724 \t (RSq threshold = 0.2)\n",
      "Passing = 201,786, filtered= 329,490 \t (RSq threshold = 0.3)\n"
     ]
    }
   ],
   "source": [
    "# Get number of passing variants at different RSq levels \n",
    "rsq_filter = [0, 0.001, 0.1, 0.2, 0.3]\n",
    "\n",
    "total = len(chr21.Rsq.astype(float))\n",
    "\n",
    "for c_rsq in rsq_filter:\n",
    "    passing = sum ( chr21.Rsq.astype(float) >= c_rsq)\n",
    "    print (\"Passing = {0:,}, filtered= {1:,} \\t (RSq threshold = {2:,})\".format(passing, total-passing, c_rsq) )"
   ]
  },
  {
   "cell_type": "markdown",
   "metadata": {},
   "source": [
    "Create a plot of **MAF** by **Mean imputation Rsq** "
   ]
  },
  {
   "cell_type": "code",
   "execution_count": 7,
   "metadata": {},
   "outputs": [
    {
     "data": {
      "text/html": [
       "<div>\n",
       "<style scoped>\n",
       "    .dataframe tbody tr th:only-of-type {\n",
       "        vertical-align: middle;\n",
       "    }\n",
       "\n",
       "    .dataframe tbody tr th {\n",
       "        vertical-align: top;\n",
       "    }\n",
       "\n",
       "    .dataframe thead th {\n",
       "        text-align: right;\n",
       "    }\n",
       "</style>\n",
       "<table border=\"1\" class=\"dataframe\">\n",
       "  <thead>\n",
       "    <tr style=\"text-align: right;\">\n",
       "      <th></th>\n",
       "      <th>ALT_Frq</th>\n",
       "      <th>MAF</th>\n",
       "      <th>AvgCall</th>\n",
       "      <th>Rsq</th>\n",
       "    </tr>\n",
       "  </thead>\n",
       "  <tbody>\n",
       "    <tr>\n",
       "      <th>count</th>\n",
       "      <td>286424.000000</td>\n",
       "      <td>286424.000000</td>\n",
       "      <td>286424.000000</td>\n",
       "      <td>286424.000000</td>\n",
       "    </tr>\n",
       "    <tr>\n",
       "      <th>mean</th>\n",
       "      <td>0.081514</td>\n",
       "      <td>0.067712</td>\n",
       "      <td>0.964091</td>\n",
       "      <td>0.435328</td>\n",
       "    </tr>\n",
       "    <tr>\n",
       "      <th>std</th>\n",
       "      <td>0.162786</td>\n",
       "      <td>0.121480</td>\n",
       "      <td>0.068500</td>\n",
       "      <td>0.205266</td>\n",
       "    </tr>\n",
       "    <tr>\n",
       "      <th>min</th>\n",
       "      <td>0.000050</td>\n",
       "      <td>0.000050</td>\n",
       "      <td>0.599030</td>\n",
       "      <td>0.100000</td>\n",
       "    </tr>\n",
       "    <tr>\n",
       "      <th>25%</th>\n",
       "      <td>0.001610</td>\n",
       "      <td>0.001610</td>\n",
       "      <td>0.970140</td>\n",
       "      <td>0.267830</td>\n",
       "    </tr>\n",
       "    <tr>\n",
       "      <th>50%</th>\n",
       "      <td>0.007080</td>\n",
       "      <td>0.007080</td>\n",
       "      <td>0.995720</td>\n",
       "      <td>0.428430</td>\n",
       "    </tr>\n",
       "    <tr>\n",
       "      <th>75%</th>\n",
       "      <td>0.061823</td>\n",
       "      <td>0.061820</td>\n",
       "      <td>0.998900</td>\n",
       "      <td>0.576510</td>\n",
       "    </tr>\n",
       "    <tr>\n",
       "      <th>max</th>\n",
       "      <td>0.939320</td>\n",
       "      <td>0.500000</td>\n",
       "      <td>1.000000</td>\n",
       "      <td>1.000000</td>\n",
       "    </tr>\n",
       "  </tbody>\n",
       "</table>\n",
       "</div>"
      ],
      "text/plain": [
       "             ALT_Frq            MAF        AvgCall            Rsq\n",
       "count  286424.000000  286424.000000  286424.000000  286424.000000\n",
       "mean        0.081514       0.067712       0.964091       0.435328\n",
       "std         0.162786       0.121480       0.068500       0.205266\n",
       "min         0.000050       0.000050       0.599030       0.100000\n",
       "25%         0.001610       0.001610       0.970140       0.267830\n",
       "50%         0.007080       0.007080       0.995720       0.428430\n",
       "75%         0.061823       0.061820       0.998900       0.576510\n",
       "max         0.939320       0.500000       1.000000       1.000000"
      ]
     },
     "execution_count": 7,
     "metadata": {},
     "output_type": "execute_result"
    }
   ],
   "source": [
    "# chr21.Rsq.describe()\n",
    "\n",
    "chr21_gt10e3 = chr21[ chr21.Rsq >= 0.1 ]\n",
    "\n",
    "chr21_gt10e3.describe()"
   ]
  }
 ],
 "metadata": {
  "interpreter": {
   "hash": "916dbcbb3f70747c44a77c7bcd40155683ae19c65e1c03b4aa3499c5328201f1"
  },
  "kernelspec": {
   "display_name": "Python 3.6.8 64-bit",
   "language": "python",
   "name": "python3"
  },
  "language_info": {
   "codemirror_mode": {
    "name": "ipython",
    "version": 3
   },
   "file_extension": ".py",
   "mimetype": "text/x-python",
   "name": "python",
   "nbconvert_exporter": "python",
   "pygments_lexer": "ipython3",
   "version": "3.6.8"
  },
  "orig_nbformat": 4
 },
 "nbformat": 4,
 "nbformat_minor": 2
}
