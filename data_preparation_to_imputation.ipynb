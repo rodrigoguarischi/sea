{
 "cells": [
  {
   "cell_type": "markdown",
   "metadata": {},
   "source": [
    "Assumes raw data from dbGAP on <code>/labs/tassimes/rodrigoguarischi/projects/sea/data_preparation_to_imputation</code> "
   ]
  },
  {
   "cell_type": "code",
   "execution_count": 1,
   "metadata": {},
   "outputs": [
    {
     "name": "stdout",
     "output_type": "stream",
     "text": [
      "apply_grs\n",
      "apply_pgs_and_plot_odds_ratios.ipynb\n",
      "aux_files\n",
      "data_preparation_to_imputation\n",
      "data_preparation_to_imputation.ipynb\n",
      "data_preparation_to_imputation_results_download.sh\n",
      "exports\n",
      "heart_disease_probabilities.pdf\n",
      "imputed_data_qc.ipynb\n",
      "imputed_genotypes\n",
      "pgs-calc_plink2_score_comparison.ipynb\n",
      "processed_files\n",
      "raw_files\n",
      "SEA_Phase2.map\n",
      "SEA_Phase2.ped\n",
      "SEA_Phase2.sex_recoded.map\n",
      "SEA_Phase2.sex_recoded.ped\n",
      "table_assembly\n",
      "TOBEDELETED\n",
      "tools\n",
      "troubleshoot_imputation_maf.ipynb\n"
     ]
    }
   ],
   "source": [
    "import os\n",
    "\n",
    "# Change working directory\n",
    "!cd \"/labs/tassimes/rodrigoguarischi/projects/sea/data_preparation_to_imputation\"\n",
    "\n",
    "# Create simbolic link to PED/MAP file\n",
    "!ln -s ./86679/NHLBI/SEA_Herrington/phs000349v1/p1/genotype/phg000121v1/genotype-calls-matrixfmt/SEA_Phase2.map .\n",
    "!ln -s ./86679/NHLBI/SEA_Herrington/phs000349v1/p1/genotype/phg000121v1/genotype-calls-matrixfmt/SEA_Phase2.ped .\n",
    "!ls"
   ]
  },
  {
   "cell_type": "markdown",
   "metadata": {},
   "source": [
    "<code>Perlegen</code> array design was based on human assembly <code>hg18</code>. In order to proceed with data_preparation we need to liftover raw files to <code>hg19</code> (Michigan Imputation Server, HRC reference panel) and <code>hg38</code> (TOPMed Imputation Server and reference panel)\n",
    "\n",
    "Before liftover, we need to preprocess data to avoid losing data at X and Y chromosomes"
   ]
  },
  {
   "cell_type": "code",
   "execution_count": null,
   "metadata": {},
   "outputs": [],
   "source": [
    "# X and Y chromosomes are coded as 23 and 24 in the original MAP file. Liftovering this way will make SNPs on these 2 chromosomes\n",
    "# to be dropped from the analysis. Recode them to X and Y to avoid losing this data\n",
    "!perl -pe \"s/^23/X/\" SEA_Phase2.map | perl -pe \"s/^24/Y/\" > SEA_Phase2.sex_recoded.map\n",
    "\n",
    "# PED file remains the same. Therefore, it's ok to use a symbolic link to reference it\n",
    "!ln -s SEA_Phase2.ped SEA_Phase2.sex_recoded.ped\n",
    "\n",
    "# List files\n",
    "!ls"
   ]
  },
  {
   "cell_type": "markdown",
   "metadata": {},
   "source": [
    "The data liftover of MAP/PED files will be done using the tool <code>liftOverPlink</code> (https://github.com/sritchie73/liftOverPlink)"
   ]
  },
  {
   "cell_type": "code",
   "execution_count": null,
   "metadata": {},
   "outputs": [],
   "source": [
    "# Assumes liftOverPlink.py script is installed in data_preparation folder as well dependencies properly present \n",
    "# (liftOver script from UCSC and chain file)\n",
    "\n",
    "# Hg19\n",
    "!../tools/liftOverPlink/liftOverPlink.py \\\n",
    "    -m SEA_Phase2.sex_recoded.map \\\n",
    "    -p SEA_Phase2.sex_recoded.ped \\\n",
    "    -e ../tools/liftOver \\\n",
    "    -c ../aux_files/hg18ToHg19.over.chain.gz \\\n",
    "    -o SEA_Phase2.sex_recoded.hg19_liftover\n",
    "\n",
    "# Hg38\n",
    "!../tools/liftOverPlink/liftOverPlink.py \\\n",
    "    -m SEA_Phase2.sex_recoded.map \\\n",
    "    -p SEA_Phase2.sex_recoded.ped \\\n",
    "    -e ../tools/liftOver \\\n",
    "    -c ../aux_files/hg18ToHg38.over.chain.gz \\\n",
    "    -o SEA_Phase2.sex_recoded.hg38_liftover\n",
    "\n",
    "# List files\n",
    "!ls -lha"
   ]
  },
  {
   "cell_type": "markdown",
   "metadata": {},
   "source": [
    "Perfome data preparation steps as instructed in the page from Michigan Imputation Server https://imputationserver.readthedocs.io/en/latest/prepare-your-data/"
   ]
  },
  {
   "cell_type": "code",
   "execution_count": null,
   "metadata": {},
   "outputs": [],
   "source": [
    "# Load plink module at SCG\n",
    "# !module load plink tabix\n",
    "\n",
    "!input_file_basename='SEA_Phase2.sex_recoded.hg19_liftover'\n",
    "\n",
    "# # Convert ped/map to bed\n",
    "!module load plink; plink --file SEA_Phase2.sex_recoded.hg19_liftover --make-bed --out SEA_Phase2.sex_recoded.hg19_liftover\n",
    "\n",
    "# # Create a frequency file\n",
    "# !plink --freq --bfile ${input_file_basename} --out ${input_file_basename}\n",
    "\n",
    "# # Execute HRC-1000G-check-bim.pl script to prepare data for imputation \n",
    "# !perl ../tools/HRC-1000G-check-bim.pl \\\n",
    "#   -b ${input_file_basename}.bim \\\n",
    "#   -f ${input_file_basename}.frq \\\n",
    "#   -r ../aux_files/HRC.r1-1.GRCh37.wgs.mac5.sites.tab \\\n",
    "#   -h\n",
    "# !sh Run-plink.sh\n",
    "\n",
    "# # Compress files as bzip\n",
    "# !for vcf_file in $(ls *.vcf); do bgzip ${vcf_file}; done"
   ]
  }
 ],
 "metadata": {
  "interpreter": {
   "hash": "31f2aee4e71d21fbe5cf8b01ff0e069b9275f58929596ceb00d14d90e3e16cd6"
  },
  "kernelspec": {
   "display_name": "Python 3.6.8 64-bit",
   "language": "python",
   "name": "python3"
  },
  "language_info": {
   "codemirror_mode": {
    "name": "ipython",
    "version": 3
   },
   "file_extension": ".py",
   "mimetype": "text/x-python",
   "name": "python",
   "nbconvert_exporter": "python",
   "pygments_lexer": "ipython3",
   "version": "3.6.8"
  },
  "orig_nbformat": 4
 },
 "nbformat": 4,
 "nbformat_minor": 2
}
