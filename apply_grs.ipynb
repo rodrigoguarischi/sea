{
 "cells": [
  {
   "cell_type": "markdown",
   "metadata": {},
   "source": [
    "Workflow used to **apply** selected PGS scores into imputation data using **pgs-calc** (https://github.com/lukfor/pgs-calc)"
   ]
  },
  {
   "cell_type": "code",
   "execution_count": null,
   "metadata": {},
   "outputs": [],
   "source": [
    "import os\n",
    "import glob\n",
    "from datetime import date\n",
    "\n",
    "basedir = \"/labs/tassimes/rodrigoguarischi/projects/sea/apply_grs/\"\n",
    "\n",
    "# Change working directory\n",
    "os.chdir(basedir)\n",
    "\n",
    "# Run all scores present pgs_reference_weights folder\n",
    "# ref_weights_paths = glob.glob( \"./pgs_reference_weights/20220511_pgss/shoa_scores/*.txt.gz\" )\n",
    "ref_weights_paths = glob.glob( \"./pgs_reference_weights/*.txt.gz\" )\n",
    "ref_weights = [ os.path.basename(pgs_path).split(\".\")[0] for pgs_path in ref_weights_paths ]\n",
    "ref_weights_paths = \",\".join([pgs_path for pgs_path in ref_weights_paths])\n",
    "\n",
    "# Create output folder named as raw_scores_<TODAYS_DATE>\n",
    "today_date = date.today().strftime(\"%Y%m%d\")\n",
    "output_folder = \"raw_scores_\" + today_date\n",
    "os.makedirs( output_folder )\n",
    "\n",
    "# Dictionary with paths to imputed VCF files for HRC and TOPMed\n",
    "imputed_genotypes = {\n",
    "    \"hrc_whites\": \"../imputed_data/michigan_hrc/whites/*.vcf.gz\",\n",
    "    \"hrc_blacks\": \"../imputed_data/michigan_hrc/blacks/*.vcf.gz\",\n",
    "    \"topmed_whites\": \"../imputed_data/topmed/whites/liftover_hg19/*no_chr_prefix.vcf.gz\",\n",
    "    \"topmed_blacks\": \"../imputed_data/topmed/blacks/liftover_hg19/*no_chr_prefix.vcf.gz\"\n",
    "    }\n",
    "      \n",
    "# Run pgs-calc for hrc and topmed imputed genotypes for multiple r2 thresholds\n",
    "for reference_panel in imputed_genotypes:\n",
    "        \n",
    "    for min_r2 in [0, 0.3, 0.5, 0.8]:\n",
    "        \n",
    "        print(\"Calculating scores for {0} at min R2 >= {1}\".format( \", \".join(ref_weights), min_r2 ) )\n",
    "        \n",
    "        output_files_basename = output_folder + \"/\" + \"_\".join( [reference_panel, today_date, \"multiGRS\", ( \"r\" + str(min_r2).replace(\".\",\"\") ) ] )\n",
    "        \n",
    "        info_report_filename = output_files_basename + \".info.txt\"\n",
    "        html_report_filename = output_files_basename + \".html\"\n",
    "        output_scores_filename = output_files_basename + \".scores.txt\"\n",
    "        \n",
    "        # Run pgs-calc using GENOTYPE information, instead of DOSAGE (the default)\n",
    "        # --genotypes=GT \\     \n",
    "        !./pgs-calc/pgs-calc apply \\\n",
    "            --ref {ref_weights_paths} \\\n",
    "            --minR2 {min_r2} \\\n",
    "            --threads 23 \\\n",
    "            --no-ansi \\\n",
    "            --info {info_report_filename} \\\n",
    "            --report-html={html_report_filename} \\\n",
    "            --out {output_scores_filename} \\\n",
    "            { imputed_genotypes[reference_panel] }"
   ]
  }
 ],
 "metadata": {
  "interpreter": {
   "hash": "916dbcbb3f70747c44a77c7bcd40155683ae19c65e1c03b4aa3499c5328201f1"
  },
  "kernelspec": {
   "display_name": "Python 3",
   "language": "python",
   "name": "python3"
  },
  "language_info": {
   "codemirror_mode": {
    "name": "ipython",
    "version": 3
   },
   "file_extension": ".py",
   "mimetype": "text/x-python",
   "name": "python",
   "nbconvert_exporter": "python",
   "pygments_lexer": "ipython3",
   "version": "3.6.8"
  }
 },
 "nbformat": 4,
 "nbformat_minor": 2
}
