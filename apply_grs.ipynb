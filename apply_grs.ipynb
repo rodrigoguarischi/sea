{
 "cells": [
  {
   "cell_type": "markdown",
   "metadata": {},
   "source": [
    "Workflow used to **apply** selected PGS scores into imputation data using **pgs-calc** (https://github.com/lukfor/pgs-calc)"
   ]
  },
  {
   "cell_type": "code",
   "execution_count": null,
   "metadata": {},
   "outputs": [],
   "source": [
    "import os\n",
    "\n",
    "basedir = \"/labs/tassimes/rodrigoguarischi/projects/sea/apply_grs\"\n",
    "\n",
    "# Change working directory\n",
    "os.chdir(basedir)\n",
    "\n",
    "imputed_genotypes = \"/labs/tassimes/rodrigoguarischi/projects/sea/imputed_data/michigan_hrc/*.vcf.gz\"\n",
    "# imputed_genotypes = \"/labs/tassimes/rodrigoguarischi/projects/sea/imputed_data/topmed/liftover_hg19/*no_chr_prefix.vcf.gz\"\n",
    "\n",
    "ref_weights=[\"wGRS49\", \"PGS000349\", \"PGS000018\", \"PGS000667\", \"PGS000889\"]\n",
    "ref_weights_folder=\"./pgs_reference_weights/\"\n",
    "\n",
    "# Create full path to files\n",
    "ref_weights_paths = \",\".join([ref_weights_folder + pgs_name + \".txt.gz\" for pgs_name in ref_weights])\n",
    "\n",
    "for min_r2 in [0, 0.3, 0.5, 0.8]:\n",
    "    \n",
    "    print(\"Calculating scores for {0} at min R2 >= {1}\".format( \", \".join(ref_weights), min_r2 ) )\n",
    "    \n",
    "    output_scores_filename = \"_\".join(ref_weights) + \"_r\" + str(min_r2).replace(\".\",\"\") + \".scores.txt\"\n",
    "    html_report_filename = \"_\".join(ref_weights) + \"_r\" + str(min_r2).replace(\".\",\"\") + \".html\"\n",
    "    \n",
    "    !./pgs-calc/pgs-calc apply \\\n",
    "        --ref {ref_weights_paths} \\\n",
    "        --minR2 {min_r2} \\\n",
    "        --threads 22 \\\n",
    "        --no-ansi \\\n",
    "        # Run pgs-calc using GENOTYPE information, instead of DOSAGE (the default)\n",
    "        # --genotypes=GT \\ \n",
    "        --report-html={html_report_filename} \\\n",
    "        --out {output_scores_filename} \\\n",
    "        {imputed_genotypes}"
   ]
  }
 ],
 "metadata": {
  "interpreter": {
   "hash": "916dbcbb3f70747c44a77c7bcd40155683ae19c65e1c03b4aa3499c5328201f1"
  },
  "kernelspec": {
   "display_name": "Python 3.6.8 64-bit",
   "language": "python",
   "name": "python3"
  },
  "language_info": {
   "codemirror_mode": {
    "name": "ipython",
    "version": 3
   },
   "file_extension": ".py",
   "mimetype": "text/x-python",
   "name": "python",
   "nbconvert_exporter": "python",
   "pygments_lexer": "ipython3",
   "version": "3.6.8"
  },
  "orig_nbformat": 4
 },
 "nbformat": 4,
 "nbformat_minor": 2
}
