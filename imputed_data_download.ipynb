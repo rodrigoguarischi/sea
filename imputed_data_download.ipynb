{
 "cells": [
  {
   "cell_type": "markdown",
   "metadata": {},
   "source": [
    "### Notebook used to download imputed data from imputation servers"
   ]
  },
  {
   "cell_type": "markdown",
   "metadata": {},
   "source": [
    "Download results from **Michigan Imputation Server**"
   ]
  },
  {
   "cell_type": "code",
   "execution_count": 1,
   "metadata": {},
   "outputs": [],
   "source": [
    "%%bash\n",
    "\n",
    "output_dir=\"/labs/tassimes/rodrigoguarischi/projects/sea/imputed_data/michigan_hrc/\"\n",
    "\n",
    "mkdir -p ${output_dir}\n",
    "cd ${output_dir}\n",
    "\n",
    "# QC Report\n",
    "curl -sL https://imputationserver.sph.umich.edu/get/2735971/0d5b77e620c3a7a92a97096b80883c930eac8825f7d1a002c2b105f9a72f144c | bash\n",
    "\n",
    "# QC Statistics\n",
    "curl -sL https://imputationserver.sph.umich.edu/get/2735975/6ebf20ec5d00fc0ecbee170b3d2057d15f7f7f3ce3140593624f7036718665fe | bash\n",
    "\n",
    "# Imputation Results\n",
    "curl -sL https://imputationserver.sph.umich.edu/get/2735977/205d41f6c1e50b7c6e84abbea0f040a2bc2124d01b85c482de157662d6e25f5b | bash\n",
    "\n",
    "# Logs\n",
    "curl -sL https://imputationserver.sph.umich.edu/get/2735978/d149d5bdf671cbac35ecc8fed8bd254865444e32c3636ed024cd9234bcdd451d | bash\n"
   ]
  },
  {
   "cell_type": "markdown",
   "metadata": {},
   "source": [
    "Download imputed results from **TOPMed Imputation Server**"
   ]
  },
  {
   "cell_type": "code",
   "execution_count": null,
   "metadata": {},
   "outputs": [],
   "source": [
    "%%bash\n",
    "\n",
    "output_dir=\"/labs/tassimes/rodrigoguarischi/projects/sea/imputed_data/topmed/\"\n",
    "\n",
    "mkdir -p ${output_dir}\n",
    "cd ${output_dir}\n",
    "\n",
    "# QC Report\n",
    "curl -sL https://imputation.biodatacatalyst.nhlbi.nih.gov/get/534991/e55200bd34b4a4b952ef19a79e22916f35a21359d29634b281b2c14895928087 | bash\n",
    "\n",
    "# QC Statistics\n",
    "curl -sL https://imputation.biodatacatalyst.nhlbi.nih.gov/get/534995/69aef320615dbe9682b855cde17220181b4132595ffa26de25c425ba23237184 | bash\n",
    "\n",
    "# Imputation Results\n",
    "curl -sL https://imputation.biodatacatalyst.nhlbi.nih.gov/get/534997/81a3207096f37226f89788fc5ce2febe8c58e3269795a53969c7bf72a56ab91b | bash\n",
    "\n",
    "# Logs\n",
    "curl -sL https://imputation.biodatacatalyst.nhlbi.nih.gov/get/534998/31daf23b29f352e27b2624c92ae19e3ff052d402b1b56fdcfe0cf1b497da56cd | bash\n"
   ]
  }
 ],
 "metadata": {
  "interpreter": {
   "hash": "916dbcbb3f70747c44a77c7bcd40155683ae19c65e1c03b4aa3499c5328201f1"
  },
  "kernelspec": {
   "display_name": "Python 3.6.8 64-bit",
   "language": "python",
   "name": "python3"
  },
  "language_info": {
   "codemirror_mode": {
    "name": "ipython",
    "version": 3
   },
   "file_extension": ".py",
   "mimetype": "text/x-python",
   "name": "python",
   "nbconvert_exporter": "python",
   "pygments_lexer": "ipython3",
   "version": "3.6.8"
  }
 },
 "nbformat": 4,
 "nbformat_minor": 2
}
